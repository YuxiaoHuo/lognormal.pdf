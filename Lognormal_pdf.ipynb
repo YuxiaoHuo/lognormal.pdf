{
  "nbformat": 4,
  "nbformat_minor": 0,
  "metadata": {
    "colab": {
      "name": "Lognormal.pdf",
      "provenance": [],
      "collapsed_sections": []
    },
    "kernelspec": {
      "name": "python3",
      "display_name": "Python 3"
    }
  },
  "cells": [
    {
      "cell_type": "code",
      "metadata": {
        "id": "dOAR6FpFoFAo",
        "colab_type": "code",
        "colab": {}
      },
      "source": [
        "import matplotlib.pyplot as plt\n",
        "import numpy as np\n",
        "import math as m"
      ],
      "execution_count": 0,
      "outputs": []
    },
    {
      "cell_type": "code",
      "metadata": {
        "id": "QEC1VemJcxgw",
        "colab_type": "code",
        "outputId": "96fdc0c9-7af4-4a8f-d9e7-e3c88589a6db",
        "colab": {
          "base_uri": "https://localhost:8080/",
          "height": 667
        }
      },
      "source": [
        "from scipy.stats import lognorm \n",
        "x = np.linspace(1,10,num = 20, endpoint=True, dtype = None, axis = 0)\n",
        "length = len(x)\n",
        "y = []\n",
        "mu = float(input(\"Enter mean: \"))\n",
        "sd = float(input(\"Enter standard deviation: \"))\n",
        "for i in range(length):\n",
        "  y.append(1/(sd*x[i]*m.sqrt(2* m.pi)) * m.exp(-1/sd*sd*(m.log(x[i])-sd)**2))\n",
        "  print(y[i])\n",
        "plt.plot(x,y)\n",
        "\n"
      ],
      "execution_count": 0,
      "outputs": [
        {
          "output_type": "stream",
          "text": [
            "Enter mean: 1.3\n",
            "Enter standard deviation: 3.5\n",
            "5.454244698298582e-07\n",
            "4.806841113809584e-06\n",
            "1.9077096671184885e-05\n",
            "5.026000569372893e-05\n",
            "0.00010369254259307961\n",
            "0.00018229006811615133\n",
            "0.00028662098811036904\n",
            "0.0004153938400545174\n",
            "0.0005660367196819225\n",
            "0.0007352188102159983\n",
            "0.0009192625376069422\n",
            "0.0011144427365211236\n",
            "0.001317188511899066\n",
            "0.001524208656834701\n",
            "0.001732560465261457\n",
            "0.0019396785302546189\n",
            "0.0021433764792253376\n",
            "0.002341831317145198\n",
            "0.002533557363422968\n",
            "0.002717374684710516\n"
          ],
          "name": "stdout"
        },
        {
          "output_type": "execute_result",
          "data": {
            "text/plain": [
              "[<matplotlib.lines.Line2D at 0x7fa5490bbf98>]"
            ]
          },
          "metadata": {
            "tags": []
          },
          "execution_count": 8
        },
        {
          "output_type": "display_data",
          "data": {
            "image/png": "[encoded data removed]",
            "text/plain": [
              "<Figure size 432x288 with 1 Axes>"
            ]
          },
          "metadata": {
            "tags": [],
            "needs_background": "light"
          }
        }
      ]
    },
    {
      "cell_type": "code",
      "metadata": {
        "id": "HGz9vM7X26jJ",
        "colab_type": "code",
        "colab": {}
      },
      "source": [
        ""
      ],
      "execution_count": 0,
      "outputs": []
    },
    {
      "cell_type": "code",
      "metadata": {
        "id": "5FV-Y65bshhY",
        "colab_type": "code",
        "outputId": "4c50de65-9b46-4aea-e9e0-0a340685917d",
        "colab": {
          "base_uri": "https://localhost:8080/",
          "height": 34
        }
      },
      "source": [
        "x = np.linspace(1,10,num = 100, endpoint=True, dtype = None, axis = 0)\n",
        "print(x[2])"
      ],
      "execution_count": 0,
      "outputs": [
        {
          "output_type": "stream",
          "text": [
            "1.1818181818181819\n"
          ],
          "name": "stdout"
        }
      ]
    },
    {
      "cell_type": "code",
      "metadata": {
        "id": "7iA2MYsXydXk",
        "colab_type": "code",
        "colab": {}
      },
      "source": [
        ""
      ],
      "execution_count": 0,
      "outputs": []
    },
    {
      "cell_type": "code",
      "metadata": {
        "id": "SKxybNSYxs0p",
        "colab_type": "code",
        "colab": {}
      },
      "source": [
        "import matplotlib.pyplot as plt\n",
        "import numpy as np\n",
        "import math as m\n",
        "from scipy.stats import lognorm"
      ],
      "execution_count": 0,
      "outputs": []
    },
    {
      "cell_type": "code",
      "metadata": {
        "id": "FkCKsIJhyeO_",
        "colab_type": "code",
        "colab": {}
      },
      "source": [
        "def LognormPlot(mu, sd):\n",
        "  x = np.linspace(1,10,num = 20, endpoint=True, dtype = None, axis = 0)\n",
        "  length = len(x)\n",
        "  y = []\n",
        "  for i in range(length):\n",
        "    y.append(1/(sd*x[i]*m.sqrt(2* m.pi)) * m.exp(-1/sd*sd*(m.log(x[i])-sd)**2))\n",
        "    print(y[i])\n",
        "  plt.plot(x,y)\n"
      ],
      "execution_count": 0,
      "outputs": []
    },
    {
      "cell_type": "code",
      "metadata": {
        "id": "UkFRAP8ezgfr",
        "colab_type": "code",
        "outputId": "7ab476a1-16d7-4160-bcef-6185e67d8147",
        "colab": {
          "base_uri": "https://localhost:8080/",
          "height": 626
        }
      },
      "source": [
        "LognormPlot(3,9)\n"
      ],
      "execution_count": 0,
      "outputs": [
        {
          "output_type": "stream",
          "text": [
            "2.9431644034779298e-37\n",
            "1.846666222129837e-34\n",
            "1.5722497660173508e-32\n",
            "4.543065261495842e-31\n",
            "6.691560390122935e-30\n",
            "6.230645103560394e-29\n",
            "4.1653331603979675e-28\n",
            "2.168716191142451e-27\n",
            "9.291593779759276e-27\n",
            "3.405704030508336e-26\n",
            "1.0988067857015384e-25\n",
            "3.188233582141906e-25\n",
            "8.45822353153946e-25\n",
            "2.0785606897924337e-24\n",
            "4.781087790686633e-24\n",
            "1.0381210122205924e-23\n",
            "2.1426557595171596e-23\n",
            "4.2282321007420397e-23\n",
            "8.016510374406867e-23\n",
            "1.466322265564456e-22\n"
          ],
          "name": "stdout"
        },
        {
          "output_type": "display_data",
          "data": {
            "image/png": "[encoded data removed]",
            "text/plain": [
              "<Figure size 432x288 with 1 Axes>"
            ]
          },
          "metadata": {
            "tags": [],
            "needs_background": "light"
          }
        }
      ]
    }
  ]
}